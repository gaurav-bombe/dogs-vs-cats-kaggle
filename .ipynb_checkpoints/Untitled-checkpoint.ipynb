{
 "cells": [
  {
   "cell_type": "code",
   "execution_count": 1,
   "metadata": {},
   "outputs": [],
   "source": [
    "import sklearn\n",
    "import pandas as pd\n",
    "import numpy as np\n",
    "from sklearn.linear_model import LogisticRegression\n",
    "from sklearn.model_selection import train_test_split\n",
    "from sklearn.metrics import log_loss"
   ]
  },
  {
   "cell_type": "code",
   "execution_count": 3,
   "metadata": {},
   "outputs": [
    {
     "name": "stdout",
     "output_type": "stream",
     "text": [
      "Training data shape: (25000, 2560), labels shape: (25000,)\n"
     ]
    },
    {
     "data": {
      "text/plain": [
       "LogisticRegression(C=1.0, class_weight=None, dual=False, fit_intercept=True,\n",
       "                   intercept_scaling=1, l1_ratio=None, max_iter=2000,\n",
       "                   multi_class='auto', n_jobs=None, penalty='l2',\n",
       "                   random_state=None, solver='lbfgs', tol=0.0001, verbose=0,\n",
       "                   warm_start=False)"
      ]
     },
     "execution_count": 3,
     "metadata": {},
     "output_type": "execute_result"
    }
   ],
   "source": [
    "X = np.load(f'X_train_b7.npy')\n",
    "y = np.load(f'y_train_b7.npy')\n",
    "\n",
    "# split data and train classifier \n",
    "print(f\"Training data shape: {X.shape}, labels shape: {y.shape}\")\n",
    "X_train, X_val, y_train, y_val = train_test_split(X, y, test_size=0.1, random_state=1337)\n",
    "clf = LogisticRegression(max_iter=2000)\n",
    "clf.fit(X_train, y_train)"
   ]
  },
  {
   "cell_type": "code",
   "execution_count": 7,
   "metadata": {},
   "outputs": [
    {
     "name": "stdout",
     "output_type": "stream",
     "text": [
      "On validation set:\n",
      "Accuracy: 0.9956\n",
      "Log Loss: 0.01566124181334555\n",
      "%---------------------------------------%\n",
      "Getting predictions for test set\n",
      "Done getting predictions\n"
     ]
    }
   ],
   "source": [
    "# Check on validation\n",
    "val_preds=clf.predict_proba(X_val)[:,1]\n",
    "print(f\"On validation set:\")\n",
    "print(f\"Accuracy: {clf.score(X_val, y_val)}\")\n",
    "print(f\"Log Loss: {log_loss(y_val, val_preds)}\")\n",
    "print(\"%---------------------------------------%\")\n",
    "\n",
    "# Get predictions on test set\n",
    "print(\"Getting predictions for test set\")\n",
    "X_test = np.load(f'X_test_b7.npy')\n",
    "X_test_preds = clf.predict_proba(X_test)[:,1]\n",
    "df = pd.DataFrame({'id': np.arange(1, 12501), 'label': np.clip(X_test_preds, 0.005, 0.995)})\n",
    "df.to_csv(f\"mysubmission.csv\", index=False)\n",
    "print(\"Done getting predictions\")"
   ]
  },
  {
   "cell_type": "code",
   "execution_count": null,
   "metadata": {},
   "outputs": [],
   "source": []
  }
 ],
 "metadata": {
  "kernelspec": {
   "display_name": "Python 3",
   "language": "python",
   "name": "python3"
  },
  "language_info": {
   "codemirror_mode": {
    "name": "ipython",
    "version": 3
   },
   "file_extension": ".py",
   "mimetype": "text/x-python",
   "name": "python",
   "nbconvert_exporter": "python",
   "pygments_lexer": "ipython3",
   "version": "3.7.6"
  }
 },
 "nbformat": 4,
 "nbformat_minor": 4
}
